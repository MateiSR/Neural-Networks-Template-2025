{
 "cells": [
  {
   "cell_type": "code",
   "execution_count": null,
   "metadata": {
    "_cell_guid": "b1076dfc-b9ad-4769-8c92-a6c4dae69d19",
    "_uuid": "8f2839f25d086af736a60e9eeb907d3b93b6e0e5",
    "execution": {
     "iopub.execute_input": "2025-10-20T11:23:38.342119Z",
     "iopub.status.busy": "2025-10-20T11:23:38.341854Z",
     "iopub.status.idle": "2025-10-20T11:23:38.346003Z",
     "shell.execute_reply": "2025-10-20T11:23:38.345208Z",
     "shell.execute_reply.started": "2025-10-20T11:23:38.342103Z"
    },
    "trusted": true
   },
   "outputs": [],
   "source": [
    "import pickle\n",
    "import os\n",
    "import pandas as pd\n",
    "import numpy as np\n"
   ]
  },
  {
   "cell_type": "code",
   "execution_count": null,
   "metadata": {
    "execution": {
     "iopub.execute_input": "2025-10-20T11:23:38.347530Z",
     "iopub.status.busy": "2025-10-20T11:23:38.347335Z",
     "iopub.status.idle": "2025-10-20T11:23:38.575515Z",
     "shell.execute_reply": "2025-10-20T11:23:38.574502Z",
     "shell.execute_reply.started": "2025-10-20T11:23:38.347515Z"
    },
    "trusted": true
   },
   "outputs": [],
   "source": [
    "train_file = \"./kaggle/input/fii-nn-2025-homework-2/extended_mnist_train.pkl\"\n",
    "test_file = \"./kaggle/input/fii-nn-2025-homework-2/extended_mnist_test.pkl\"\n",
    "\n",
    "with open(train_file, \"rb\") as fp:\n",
    "    train = pickle.load(fp)\n",
    "\n",
    "with open(test_file, \"rb\") as fp:\n",
    "    test = pickle.load(fp)"
   ]
  },
  {
   "cell_type": "code",
   "execution_count": null,
   "metadata": {
    "execution": {
     "iopub.execute_input": "2025-10-20T11:23:38.579017Z",
     "iopub.status.busy": "2025-10-20T11:23:38.578731Z",
     "iopub.status.idle": "2025-10-20T11:23:38.669460Z",
     "shell.execute_reply": "2025-10-20T11:23:38.668501Z",
     "shell.execute_reply.started": "2025-10-20T11:23:38.579001Z"
    },
    "trusted": true
   },
   "outputs": [],
   "source": [
    "train_data = []\n",
    "train_labels = []\n",
    "for image, label in train:\n",
    "    train_data.append(image.flatten())\n",
    "    train_labels.append(label)\n"
   ]
  },
  {
   "cell_type": "code",
   "execution_count": null,
   "metadata": {
    "execution": {
     "iopub.execute_input": "2025-10-20T11:23:38.671200Z",
     "iopub.status.busy": "2025-10-20T11:23:38.670983Z",
     "iopub.status.idle": "2025-10-20T11:23:38.687340Z",
     "shell.execute_reply": "2025-10-20T11:23:38.686719Z",
     "shell.execute_reply.started": "2025-10-20T11:23:38.671184Z"
    },
    "trusted": true
   },
   "outputs": [],
   "source": [
    "test_data = []\n",
    "for image, label in test:\n",
    "    test_data.append(image.flatten())\n"
   ]
  },
  {
   "cell_type": "code",
   "execution_count": null,
   "metadata": {
    "execution": {
     "iopub.execute_input": "2025-10-20T11:23:38.688112Z",
     "iopub.status.busy": "2025-10-20T11:23:38.687941Z",
     "iopub.status.idle": "2025-10-20T11:23:38.889921Z",
     "shell.execute_reply": "2025-10-20T11:23:38.889058Z",
     "shell.execute_reply.started": "2025-10-20T11:23:38.688097Z"
    },
    "trusted": true
   },
   "outputs": [],
   "source": [
    "# convert to numpy arrays\n",
    "X_train = np.array(train_data)\n",
    "y_train = np.array(train_labels)\n",
    "X_test = np.array(test_data)\n",
    "\n",
    "# normalize data (255 values for 0-255 black-white images)\n",
    "X_train = X_train / 255.0\n",
    "X_test = X_test / 255.0\n",
    "# standarizare (z-score normalization)\n",
    "mean = np.mean(X_train, axis=0)\n",
    "std = np.std(X_train, axis=0) + 1e-9\n",
    "X_train = (X_train - mean) / std\n",
    "X_test = (X_test - mean) / std\n",
    "\n",
    "def one_hot(y, num_classes):\n",
    "    # one-hot, meaning:\n",
    "    # for digit n, we create a vector of size num_classes\n",
    "    # all values are 0, except the nth position, which is 1\n",
    "    one_hot_y = np.zeros((y.shape[0], num_classes))\n",
    "    for row, col in enumerate(y):\n",
    "        one_hot_y[row, col] = 1 # row = sample, col = digit 0-9\n",
    "    return one_hot_y\n",
    "\n",
    "class Perceptron:\n",
    "    def __init__(self, n_inputs, n_outputs, learning_rate=0.1):\n",
    "        # weight initialized with small random values\n",
    "        self.W = np.random.randn(n_inputs, n_outputs) * 0.01\n",
    "        # bias initialized with small random values\n",
    "        self.b = np.random.randn(n_outputs) * 0.01\n",
    "        # learning rate\n",
    "        self.lr = learning_rate\n",
    "\n",
    "    def _softmax(self, z):\n",
    "        # softmax activation formula (numerically stable version)\n",
    "        # subtract max for numerical stability to prevent overflow in predict()\n",
    "        z_stable = z - np.max(z, axis=1, keepdims=True)\n",
    "        exp_z = np.exp(z_stable)\n",
    "        return exp_z / np.sum(exp_z, axis=1, keepdims=True)\n",
    "\n",
    "    def forward(self, X):\n",
    "        ### forward step\n",
    "        # @ = matrix multiplication\n",
    "        # z = XW + b\n",
    "        z = X @ self.W + self.b\n",
    "        # apply softmax activation\n",
    "        y = self._softmax(z)\n",
    "        return y\n",
    "\n",
    "    def fit(self, X, y, epochs=150):\n",
    "        # number of samples\n",
    "        num_samples = X.shape[0]\n",
    "        num_classes = len(np.unique(y)) # always 10 (digits 0 to 9)\n",
    "        y_one_hot = one_hot(y, num_classes)\n",
    "        print(\"TRAINING: START!\")\n",
    "        # pass through the dataset EPOCHS times\n",
    "        for epoch in range(epochs):\n",
    "            # forward pass, predicted probabilities\n",
    "            y_predicted_probabilities = self.forward(X)\n",
    "            # y_one_hot is the expected output (Target)\n",
    "            # y_predicted_probabilities is the predicted output (y)\n",
    "            error_term = y_one_hot - y_predicted_probabilities # Target - y\n",
    "            grad_W = X.T @ error_term # (Target - y) * Tranpose(X)\n",
    "            grad_b = np.sum(error_term, axis=0) # sum of errors (Target - y)\n",
    "\n",
    "            # learning rate is the percent of the \"correction\" we apply to W and b\n",
    "            self.W += self.lr * (grad_W / num_samples) # W = W + lr * gradient_W\n",
    "            self.b += self.lr * (grad_b / num_samples) # b = b + lr * gradient_b\n",
    "            if (epoch + 1) % 10 == 0:\n",
    "                # cross-entropy loss\n",
    "                loss = -np.sum(y_one_hot * np.log(y_predicted_probabilities)) / num_samples\n",
    "                # calculate accuracy: compare predicted classes to true classes\n",
    "                y_pred_classes = np.argmax(y_predicted_probabilities, axis=1)\n",
    "                y_true_classes = np.argmax(y_one_hot, axis=1)\n",
    "                acc = np.mean(y_pred_classes == y_true_classes)\n",
    "                print(f\"EPOCH {epoch + 1}/{epochs} WITH LOSS: {loss:.5f}, ACCURACY: {acc:.5f}\")\n",
    "        print(\"TRAINING: COMPLETE!\")\n",
    "\n",
    "    def predict(self, X):\n",
    "        # get predicted probabilities (returns a matrix of 10 columns,\n",
    "        # one for each digit 0-9) and len(X) rows\n",
    "        y_probabilities = self.forward(X)\n",
    "        # return the label with highest probability for each row (sample)\n",
    "        # np.argmax - index cu val max (predicted)\n",
    "        return np.argmax(y_probabilities, axis=1)\n"
   ]
  },
  {
   "cell_type": "code",
   "execution_count": null,
   "metadata": {
    "execution": {
     "iopub.execute_input": "2025-10-20T11:23:38.890802Z",
     "iopub.status.busy": "2025-10-20T11:23:38.890616Z",
     "iopub.status.idle": "2025-10-20T11:24:19.573939Z",
     "shell.execute_reply": "2025-10-20T11:24:19.573195Z",
     "shell.execute_reply.started": "2025-10-20T11:23:38.890784Z"
    },
    "trusted": true
   },
   "outputs": [],
   "source": [
    "n_inputs = 784 # 28x28 images flattened\n",
    "n_outputs = 10 # digits 0-9\n",
    "learning_rate = 0.25\n",
    "epochs = 250\n",
    "\n",
    "model = Perceptron(n_inputs=n_inputs, n_outputs=n_outputs, learning_rate=learning_rate)\n",
    "# data, labels, no. epochs\n",
    "model.fit(X_train, y_train, epochs=epochs)"
   ]
  },
  {
   "cell_type": "code",
   "execution_count": null,
   "metadata": {
    "execution": {
     "iopub.execute_input": "2025-10-20T11:24:19.574629Z",
     "iopub.status.busy": "2025-10-20T11:24:19.574456Z",
     "iopub.status.idle": "2025-10-20T11:24:19.591575Z",
     "shell.execute_reply": "2025-10-20T11:24:19.590206Z",
     "shell.execute_reply.started": "2025-10-20T11:24:19.574612Z"
    },
    "trusted": true
   },
   "outputs": [],
   "source": [
    "predictions = model.predict(X_test)"
   ]
  },
  {
   "cell_type": "code",
   "execution_count": null,
   "metadata": {
    "execution": {
     "iopub.execute_input": "2025-10-20T11:24:19.592492Z",
     "iopub.status.busy": "2025-10-20T11:24:19.592287Z",
     "iopub.status.idle": "2025-10-20T11:24:19.620075Z",
     "shell.execute_reply": "2025-10-20T11:24:19.619414Z",
     "shell.execute_reply.started": "2025-10-20T11:24:19.592474Z"
    },
    "trusted": true
   },
   "outputs": [],
   "source": [
    "predictions_csv = {\n",
    "    \"ID\": list(range(len(predictions))),\n",
    "    \"target\": predictions,\n",
    "}\n",
    "\n",
    "df = pd.DataFrame(predictions_csv)\n",
    "df.to_csv(\"submission.csv\", index=False)"
   ]
  }
 ],
 "metadata": {
  "kaggle": {
   "accelerator": "none",
   "dataSources": [
    {
     "databundleVersionId": 13980009,
     "sourceId": 115341,
     "sourceType": "competition"
    }
   ],
   "dockerImageVersionId": 31089,
   "isGpuEnabled": false,
   "isInternetEnabled": false,
   "language": "python",
   "sourceType": "notebook"
  },
  "kernelspec": {
   "display_name": "Python 3",
   "language": "python",
   "name": "python3"
  },
  "language_info": {
   "codemirror_mode": {
    "name": "ipython",
    "version": 3
   },
   "file_extension": ".py",
   "mimetype": "text/x-python",
   "name": "python",
   "nbconvert_exporter": "python",
   "pygments_lexer": "ipython3",
   "version": "3.12.1"
  }
 },
 "nbformat": 4,
 "nbformat_minor": 4
}
