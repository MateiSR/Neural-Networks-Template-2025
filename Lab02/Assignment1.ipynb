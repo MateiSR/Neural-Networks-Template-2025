{
  "cells": [
    {
      "cell_type": "markdown",
      "metadata": {
        "id": "QbgW4DIwi6b1"
      },
      "source": [
        "<a target=\"_blank\" href=\"https://colab.research.google.com/github/Tensor-Reloaded/Neural-Networks-Template-2025/blob/main/Lab02/Assignment1.ipynb\">\n",
        "  <img src=\"https://colab.research.google.com/assets/colab-badge.svg\" alt=\"Open In Colab\"/>\n",
        "</a>"
      ]
    },
    {
      "cell_type": "markdown",
      "metadata": {
        "id": "vKijL-hLi6b1"
      },
      "source": [
        "# **Assignment 1 (10 points)**"
      ]
    },
    {
      "cell_type": "markdown",
      "metadata": {
        "id": "dk7z6neri6b2",
        "vscode": {
          "languageId": "plaintext"
        }
      },
      "source": [
        "## **Solving a linear system in python**"
      ]
    },
    {
      "cell_type": "markdown",
      "metadata": {
        "id": "bpZPBUV3i6b2",
        "vscode": {
          "languageId": "plaintext"
        }
      },
      "source": [
        "In this homework, you will familiarize yourself with key linear algebra con-\n",
        "cepts and Python programming by solving a system of linear equations. You\n",
        "will explore multiple methods for solving such systems, including Cramer’s rule\n",
        "and matrix inversion. By the end of this assignment, you will have a good un-\n",
        "derstanding of how to represent and manipulate matrices and vectors in Python."
      ]
    },
    {
      "cell_type": "markdown",
      "metadata": {
        "id": "5NMuGjUCi6b2",
        "vscode": {
          "languageId": "plaintext"
        }
      },
      "source": [
        "We begin with the following system of 3 linear equations with 3 unknowns:\n",
        "$$ 2x + 3y - z = 5 $$\n",
        "$$ x - y + 4z = 6 $$\n",
        "$$ 3x + y + 2z = 7 $$\n",
        "\n",
        "This system can be vectorized in the following form:\n",
        "$$ A \\cdot X = B $$\n",
        "where:\n",
        "$$\n",
        "A = \\begin{bmatrix}\n",
        "2 & 3 & -1 \\\\\n",
        "1 & -1 & 4 \\\\\n",
        "3 & 1 & 2\n",
        "\\end{bmatrix}, \\quad\n",
        "X = \\begin{bmatrix}\n",
        "x \\\\\n",
        "y \\\\\n",
        "z\n",
        "\\end{bmatrix}, \\quad\n",
        "B = \\begin{bmatrix}\n",
        "5 \\\\\n",
        "6 \\\\\n",
        "7\n",
        "\\end{bmatrix}\n",
        "$$\n",
        "\n",
        "**Considerations**\n",
        "- do not use any linear algebra framework such as $numpy$\n",
        "- use python lists as data structures for matrices and vectors\n",
        "- experiment with other values for the coefficients and free terms"
      ]
    },
    {
      "cell_type": "markdown",
      "metadata": {
        "id": "pt9BmHRZi6b2",
        "vscode": {
          "languageId": "plaintext"
        }
      },
      "source": [
        "### **1. Parsing the System of Equations (1 point)**"
      ]
    },
    {
      "cell_type": "markdown",
      "metadata": {
        "id": "ThKbdja0i6b2",
        "vscode": {
          "languageId": "plaintext"
        }
      },
      "source": [
        "The first task is to implement a Python script that reads a system of linear equations from a text file and parses it into a matrix $A$ and a vector $B$. You will use the input format described below to extract the coefficients for $A$ and $B$.\n",
        "\n",
        "**Input File Format**\n",
        "```text\n",
        "2x + 3y - z = 5\n",
        "x - y + 4z = 6\n",
        "3x + y + 2z = 7\n",
        "```\n",
        "\n",
        "Note that the coefficients are always in the order x, y and z and the terms are always space separated"
      ]
    },
    {
      "cell_type": "code",
      "execution_count": null,
      "metadata": {
        "colab": {
          "base_uri": "https://localhost:8080/"
        },
        "id": "MBaBoXe-i6b2",
        "outputId": "9706785d-cb57-4b0c-e2a6-597a1ea8a32d"
      },
      "outputs": [
        {
          "ename": "",
          "evalue": "",
          "output_type": "error",
          "traceback": [
            "\u001b[1;31mRunning cells with 'Python 3.12.1' requires the ipykernel package.\n",
            "\u001b[1;31m<a href='command:jupyter.createPythonEnvAndSelectController'>Create a Python Environment</a> with the required packages."
          ]
        }
      ],
      "source": [
        "import pathlib\n",
        "\n",
        "def load_system(path: pathlib.Path) -> tuple[list[list[float]], list[float]]:\n",
        "  A = []\n",
        "  B = []\n",
        "  with open(path, 'r') as file:\n",
        "    for line in file:\n",
        "      current_line = []\n",
        "      line = line.strip().replace(' ', '')\n",
        "      p1, p2 = line.split('=')\n",
        "      p1 = p1.replace('-', '*-')\n",
        "      p1 = p1.replace('+', '*')\n",
        "      # using * as separator\n",
        "      coef = p1.split('*')\n",
        "      # print(coef)\n",
        "      curr_A = []\n",
        "      for member in coef:\n",
        "        curr_value = 1.0\n",
        "        if '-' in member:\n",
        "          curr_value = -1.0\n",
        "          member = member.replace('-', '')\n",
        "        for lttr in ['x','y','z']:\n",
        "          if lttr in member:\n",
        "            member = member.replace(lttr, '')\n",
        "            if member:\n",
        "              curr_value *= float(member)\n",
        "        curr_A.append(curr_value)\n",
        "\n",
        "      A.append(curr_A)\n",
        "      B.append(float(p2))\n",
        "    return A, B\n",
        "    # return [[0, 0, 0], [0, 0, 0], [0, 0, 0]], [0, 0, 0]\n",
        "\n",
        "A, B = load_system(pathlib.Path(\"system.txt\"))\n",
        "print(f\"{A=} {B=}\")"
      ]
    },
    {
      "cell_type": "markdown",
      "metadata": {
        "id": "0U09p9jZi6b3",
        "vscode": {
          "languageId": "plaintext"
        }
      },
      "source": [
        "### **2. Matrix and Vector Operations (5 points)**"
      ]
    },
    {
      "cell_type": "markdown",
      "metadata": {
        "id": "DEloXA2ti6b3",
        "vscode": {
          "languageId": "plaintext"
        }
      },
      "source": [
        "Once you have successfully parsed the matrix and vector, complete the following exercises to manipulate and understand basic matrix and vector operations. Write Python functions for each of these tasks:"
      ]
    },
    {
      "cell_type": "markdown",
      "metadata": {
        "id": "0eyNr4pYi6b3",
        "vscode": {
          "languageId": "plaintext"
        }
      },
      "source": [
        "#### 2.1. Determinant"
      ]
    },
    {
      "cell_type": "markdown",
      "metadata": {
        "id": "dkP9GPmNi6b4",
        "vscode": {
          "languageId": "plaintext"
        }
      },
      "source": [
        "Write a function to compute the determinant of matrix $A$. Recall one of the formulae for the determinant of a $3x3$ matrix:\n",
        "$$ \\text{det}(A) = a_{11}(a_{22}a_{33} - a_{23}a_{32}) - a_{12}(a_{21}a_{33} - a_{23}a_{31}) + a_{13}(a_{21}a_{32} - a_{22}a_{31}) $$"
      ]
    },
    {
      "cell_type": "code",
      "execution_count": null,
      "metadata": {
        "colab": {
          "base_uri": "https://localhost:8080/"
        },
        "id": "UgrI7OVGi6b4",
        "outputId": "08233749-61b5-45af-d598-9416e142b68f"
      },
      "outputs": [],
      "source": [
        "def determinant(matrix: list[list[float]]) -> float:\n",
        "    return (matrix[0][0] * (matrix[1][1] * matrix[2][2] - matrix[1][2] * matrix[2][1]) - matrix[0][1] * (matrix[1][0] * matrix[2][2] - matrix[1][2] * matrix[2][0]) + matrix[0][2] * (matrix[1][0] * matrix[2][1] - matrix[1][1] * matrix[2][0]))\n",
        "\n",
        "print(f\"determinant(A)={determinant(A)}\")"
      ]
    },
    {
      "cell_type": "markdown",
      "metadata": {
        "id": "wb2kPs6Ui6b4"
      },
      "source": [
        "#### 2.2. Trace"
      ]
    },
    {
      "cell_type": "markdown",
      "metadata": {
        "id": "sMQQLur0i6b4"
      },
      "source": [
        "Compute the sum of the elements along the main diagonal of matrix $A$. For a matrix $A$, this is:\n",
        "$$ \\text{Trace}(A) = a_{11} + a_{22} + a_{33} $$"
      ]
    },
    {
      "cell_type": "code",
      "execution_count": null,
      "metadata": {
        "colab": {
          "base_uri": "https://localhost:8080/"
        },
        "id": "BEoafDRxi6b4",
        "outputId": "d25649f1-f7aa-4e86-8045-a0c4cea20a7d"
      },
      "outputs": [],
      "source": [
        "def trace(matrix: list[list[float]]) -> float:\n",
        "    return matrix[0][0] + matrix[1][1] + matrix[2][2]\n",
        "\n",
        "print(f\"{trace(A)=}\")"
      ]
    },
    {
      "cell_type": "markdown",
      "metadata": {
        "id": "KG68N6Axi6b5"
      },
      "source": [
        "#### 2.3. Vector norm"
      ]
    },
    {
      "cell_type": "markdown",
      "metadata": {
        "id": "li6Q6j95i6b5"
      },
      "source": [
        "Compute the Euclidean norm of vector $B$, which is:\n",
        "$$ ||B|| = \\sqrt{b_1^2 + b_2^2 + b_3^2} $$"
      ]
    },
    {
      "cell_type": "code",
      "execution_count": null,
      "metadata": {
        "colab": {
          "base_uri": "https://localhost:8080/"
        },
        "id": "SYkv7ziei6b5",
        "outputId": "412c46ed-b350-463c-96a0-9ccf3a6565ee"
      },
      "outputs": [],
      "source": [
        "from math import sqrt\n",
        "def norm(vector: list[float]) -> float:\n",
        "    return sqrt(vector[0] * vector[0] + vector[1] * vector[1] + vector[2] * vector[2])\n",
        "\n",
        "print(f\"{norm(B)=}\")"
      ]
    },
    {
      "cell_type": "markdown",
      "metadata": {
        "id": "uY7YwE8Di6b5"
      },
      "source": [
        "#### 2.4. Transpose of matrix"
      ]
    },
    {
      "cell_type": "markdown",
      "metadata": {
        "id": "wRSatZKoi6b5"
      },
      "source": [
        "Write a function to compute the transpose of matrix $A$. The transpose of a matrix $A$ is obtained by swapping its rows and columns.\n",
        "    "
      ]
    },
    {
      "cell_type": "code",
      "execution_count": null,
      "metadata": {
        "colab": {
          "base_uri": "https://localhost:8080/"
        },
        "id": "Y4IH2lYXi6b5",
        "outputId": "a39f7986-2536-4a86-aa2a-5953092d5de5"
      },
      "outputs": [],
      "source": [
        "def transpose(matrix: list[list[float]]) -> list[list[float]]:\n",
        "  t = [[0, 0, 0], [0, 0, 0], [0, 0, 0]]\n",
        "  for i in range(len(matrix)):\n",
        "    for j in range(len(matrix[0])):\n",
        "      t[i][j] = matrix[j][i]\n",
        "  return t\n",
        "  # return [[0, 0, 0], [0, 0, 0], [0, 0, 0]]\n",
        "\n",
        "print(f\"{transpose(A)=}\")"
      ]
    },
    {
      "cell_type": "markdown",
      "metadata": {
        "id": "0bHGm1eci6b6"
      },
      "source": [
        "#### 2.5. Matrix-vector multiplication"
      ]
    },
    {
      "cell_type": "markdown",
      "metadata": {
        "id": "qdy4ggvvi6b6"
      },
      "source": [
        "Write a function that multiplies matrix $A$ with vector $B$."
      ]
    },
    {
      "cell_type": "code",
      "execution_count": null,
      "metadata": {
        "colab": {
          "base_uri": "https://localhost:8080/"
        },
        "id": "Zy-xMGdxi6b7",
        "outputId": "903926e7-f5de-46ac-8fef-3bdf32cbce60"
      },
      "outputs": [],
      "source": [
        "def multiply(matrix: list[list[float]], vector: list[float]) -> list[float]:\n",
        "    result = [0, 0, 0]\n",
        "    for i in range(len(matrix)):\n",
        "        for j in range(len(vector)):\n",
        "            result[i] += matrix[i][j] * vector[j]\n",
        "    return result\n",
        "\n",
        "print(f\"{multiply(A, B)=}\")"
      ]
    },
    {
      "cell_type": "markdown",
      "metadata": {
        "id": "xXqCXhQMi6b7"
      },
      "source": [
        "### **3. Solving using Cramer's Rule (1 point)**"
      ]
    },
    {
      "cell_type": "markdown",
      "metadata": {
        "id": "fqnot2h7i6b7"
      },
      "source": [
        "Now that you have explored basic matrix operations, solve the system of linear equations using Cramer's rule.\n",
        "\n",
        "**Cramer's Rule:**\n",
        "\n",
        "Cramer's rule allows you to solve for each unknown $x$, $y$, and $z$ using determinants. For example:\n",
        "$$ x = \\frac{\\text{det}(A_x)}{\\text{det}(A)}, \\quad y = \\frac{\\text{det}(A_y)}{\\text{det}(A)}, \\quad z = \\frac{\\text{det}(A_z)}{\\text{det}(A)} $$\n",
        "where $A_x$, $A_y$, and $A_z$ are matrices formed by replacing the respective column of matrix $A$ with vector $B$."
      ]
    },
    {
      "cell_type": "code",
      "execution_count": null,
      "metadata": {
        "colab": {
          "base_uri": "https://localhost:8080/"
        },
        "id": "7MCMiu3pi6b7",
        "outputId": "844bbf2f-36b9-4018-eefe-8acb3cb7c800"
      },
      "outputs": [],
      "source": [
        "def solve_cramer(matrix: list[list[float]], vector: list[float]) -> list[float]:\n",
        "    result = [0, 0, 0]\n",
        "    det_A = determinant(matrix)\n",
        "    if det_A == 0:\n",
        "        return result # nu are solutie\n",
        "    for i in range(len(matrix)):\n",
        "        temp = [row.copy() for row in matrix] # actual data copy\n",
        "        for j in range(len(matrix)):\n",
        "            # replace column\n",
        "            temp[j][i] = vector[j]\n",
        "        result[i] = determinant(temp) / det_A\n",
        "    return result\n",
        "\n",
        "print(f\"{solve_cramer(A, B)=}\")"
      ]
    },
    {
      "cell_type": "markdown",
      "metadata": {
        "id": "4ztVwcN5i6b7"
      },
      "source": [
        "### **4. Solving using Inversion (3 points)**"
      ]
    },
    {
      "cell_type": "markdown",
      "metadata": {
        "id": "3v3bp251i6b7"
      },
      "source": [
        "Finally, solve the system by computing the inverse of matrix $A$ and multiplying it by vector $B$.\n",
        "$$ A \\cdot X = B \\rightarrow X = A^{-1} \\cdot B $$\n",
        "**Adjugate Method for Matrix Inversion:**\n",
        "\n",
        "To find the inverse of matrix $ A $, you can use the adjugate method:\n",
        "$$ A^{-1} = \\frac{1}{\\text{det}(A)} \\times \\text{adj}(A) $$\n",
        "where $\\text{adj}(A)$ is the adjugate (or adjoint) matrix, which is the transpose of the cofactor matrix of $ A $.\n",
        "\n",
        "**Cofactor Matrix:**\n",
        "\n",
        "The cofactor matrix is a matrix where each element is replaced by its cofactor. The cofactor of an element $a_{ij}$ is given by:\n",
        "$$ (-1)^{i+j} \\times \\text{det}(M_{ij}) $$\n",
        "where $M_{ij}$ is the minor of element $a_{ij}$, which is the matrix obtained by removing the $i$-th row and $j$-th column from matrix $A$."
      ]
    },
    {
      "cell_type": "code",
      "execution_count": null,
      "metadata": {
        "colab": {
          "base_uri": "https://localhost:8080/"
        },
        "id": "4W3i76lji6b7",
        "outputId": "6f2afd02-b492-4473-b960-466835fdc916"
      },
      "outputs": [],
      "source": [
        "def minor(matrix: list[list[float]], i: int, j: int) -> list[list[float]]:\n",
        "  # return [[[0, 0], [0, 0]]]\n",
        "  result = []\n",
        "  for ii in range(len(matrix)):\n",
        "    if ii == i:\n",
        "      continue\n",
        "    curr = []\n",
        "    for jj in range(len(matrix[0])):\n",
        "      if jj != j:\n",
        "        curr.append(matrix[ii][jj])\n",
        "    result.append(curr)\n",
        "  return result\n",
        "\n",
        "# print(f\"{minor(A, 1, 1)=}\")\n",
        "\n",
        "def det_2(matrix: list[list[float]]) -> float:\n",
        "  return matrix[0][0] * matrix[1][1] - matrix[0][1] * matrix[1][0]\n",
        "\n",
        "def cofactor(matrix: list[list[float]]) -> list[list[float]]:\n",
        "  cof = []\n",
        "  for i in range(len(matrix)):\n",
        "    curr = []\n",
        "    for j in range(len(matrix[0])):\n",
        "      curr.append((-1)**(i+j) * det_2(minor(matrix, i, j)))\n",
        "    cof.append(curr)\n",
        "  return cof\n",
        "  # return [[0, 0, 0], [0, 0, 0], [0, 0, 0]]\n",
        "\n",
        "# print(f\"{cofactor(A)=}\")\n",
        "\n",
        "def adjoint(matrix: list[list[float]]) -> list[list[float]]:\n",
        "  return transpose(cofactor(matrix))\n",
        "\n",
        "# print(f\"{adjoint(A)=}\")\n",
        "\n",
        "def solve(matrix: list[list[float]], vector: list[float]) -> list[float]:\n",
        "  det = determinant(matrix)\n",
        "  if det == 0:\n",
        "    return [0, 0, 0] # nu se poate / nu are solutie\n",
        "  temp = multiply(adjoint(matrix), vector)\n",
        "  for i in range(len(temp)):\n",
        "    temp[i] /= det\n",
        "  return temp\n",
        "\n",
        "print(f\"{solve(A, B)=}\")"
      ]
    }
  ],
  "metadata": {
    "colab": {
      "provenance": []
    },
    "kernelspec": {
      "display_name": "Python 3",
      "language": "python",
      "name": "python3"
    },
    "language_info": {
      "codemirror_mode": {
        "name": "ipython",
        "version": 3
      },
      "file_extension": ".py",
      "mimetype": "text/x-python",
      "name": "python",
      "nbconvert_exporter": "python",
      "pygments_lexer": "ipython3",
      "version": "3.12.1"
    }
  },
  "nbformat": 4,
  "nbformat_minor": 0
}
